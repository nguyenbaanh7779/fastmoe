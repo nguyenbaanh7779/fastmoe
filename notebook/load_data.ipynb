{
 "cells": [
  {
   "cell_type": "code",
   "execution_count": 1,
   "metadata": {},
   "outputs": [],
   "source": [
    "import sys\n",
    "import os\n",
    "\n",
    "root_path = \"\"\n",
    "for path in os.getcwd().split(\"\\\\\")[:-1]:\n",
    "    root_path += f\"{path}/\"\n",
    "sys.path.insert(1, root_path)"
   ]
  },
  {
   "cell_type": "code",
   "execution_count": null,
   "metadata": {},
   "outputs": [
    {
     "name": "stderr",
     "output_type": "stream",
     "text": [
      "c:\\Users\\Admin\\OneDrive - Hanoi University of Science and Technology\\DANC\\source_code\\py_env\\Lib\\site-packages\\tqdm\\auto.py:21: TqdmWarning: IProgress not found. Please update jupyter and ipywidgets. See https://ipywidgets.readthedocs.io/en/stable/user_install.html\n",
      "  from .autonotebook import tqdm as notebook_tqdm\n"
     ]
    }
   ],
   "source": [
    "import datasets\n",
    "from tqdm import tqdm"
   ]
  },
  {
   "cell_type": "code",
   "execution_count": null,
   "metadata": {},
   "outputs": [
    {
     "name": "stderr",
     "output_type": "stream",
     "text": [
      "Saving train.txt: 100%|██████████| 1801350/1801350 [00:08<00:00, 219632.95lines/s]\n",
      "Saving validation.txt: 100%|██████████| 3760/3760 [00:00<00:00, 375991.39lines/s]\n",
      "Saving test.txt: 100%|██████████| 4358/4358 [00:00<00:00, 300173.69lines/s]\n"
     ]
    }
   ],
   "source": [
    "ds = datasets.load_dataset(\"Salesforce/wikitext\", \"wikitext-103-raw-v1\")\n",
    "for type_ds in [\"train\", \"validation\", \"test\"]:\n",
    "    lines = ds[type_ds][\"text\"]\n",
    "    if not os.path.exists(os.path.join(root_path, \"data/wikitext-103\")):\n",
    "        os.makedirs(os.path.join(root_path, \"data/wikitext-103\"))\n",
    "    with open(os.path.join(root_path, f\"data/wikitext-103/{type_ds}.txt\"), \"w\", encoding=\"utf-8\") as f:\n",
    "        for line in tqdm(lines, desc=f\"Saving {type_ds}.txt\", unit=\"lines\"):\n",
    "            f.write(line)\n",
    "    f.close()"
   ]
  },
  {
   "cell_type": "code",
   "execution_count": null,
   "metadata": {},
   "outputs": [],
   "source": [
    "sys.path.insert(1, os.path.join(root_path, \"examples/transformer-xl\"))\n",
    "import torch\n",
    "import torch.nn as nn\n",
    "import torch.optim as optim\n",
    "\n",
    "from data_utils import get_lm_corpus\n",
    "# from mem_transformer import MemTransformerLM\n",
    "from utils.exp_utils import create_exp_dir\n",
    "from utils.data_parallel import BalancedDataParallel"
   ]
  }
 ],
 "metadata": {
  "kernelspec": {
   "display_name": "py_env",
   "language": "python",
   "name": "python3"
  },
  "language_info": {
   "codemirror_mode": {
    "name": "ipython",
    "version": 3
   },
   "file_extension": ".py",
   "mimetype": "text/x-python",
   "name": "python",
   "nbconvert_exporter": "python",
   "pygments_lexer": "ipython3",
   "version": "3.12.3"
  }
 },
 "nbformat": 4,
 "nbformat_minor": 2
}
